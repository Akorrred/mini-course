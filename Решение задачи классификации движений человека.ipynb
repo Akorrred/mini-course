{
 "cells": [
  {
   "cell_type": "markdown",
   "metadata": {},
   "source": [
    "## 2. Получение предсказаний на тестовой выборке и создание файла для kaggle."
   ]
  },
  {
   "cell_type": "markdown",
   "metadata": {},
   "source": [
    "Считаем данные из яндекс-диска"
   ]
  },
  {
   "cell_type": "code",
   "execution_count": null,
   "metadata": {},
   "outputs": [],
   "source": [
    "import os\n",
    "import pandas as pd\n",
    "path = r'C:\\Users\\AKorn\\Downloads\\kaggle_data (1)\\kaggle_data' \n",
    "data = {}\n",
    "\n",
    "Data = []\n",
    "Target = []\n",
    "\n",
    "i=0\n",
    "for dir_entry in sorted(os.listdir(path)):\n",
    "    dir_entry_path = os.path.join(path, dir_entry)\n",
    "    if os.path.isfile(dir_entry_path):\n",
    "        i+=1\n",
    "        with open(dir_entry_path, 'r') as my_file:\n",
    "            print(dir_entry_path.split(\"\\\\\")[-1])\n",
    "            try:\n",
    "                df = pd.read_csv(my_file, delimiter=';')\n",
    "                if df.shape[1] == 5:\n",
    "                    Data.append(df)\n",
    "                    Target.append(dir_entry_path.split(\"\\\\\")[-1])\n",
    "            except UnicodeDecodeError:\n",
    "                pass\n",
    "\n",
    "for dir_entry in sorted(os.listdir(path)):\n",
    "    dir_entry_path = os.path.join(path, dir_entry)\n",
    "    if os.path.isfile(dir_entry_path):\n",
    "        i+=1\n",
    "        with open(dir_entry_path, 'r') as my_file:\n",
    "            print(dir_entry_path.split(\"\\\\\")[-1])\n",
    "            try:\n",
    "                df = pd.read_csv(my_file, delimiter=',')\n",
    "                if df.shape[1] == 5:\n",
    "                    Data.append(df)\n",
    "                    Target.append(dir_entry_path.split(\"\\\\\")[-1])\n",
    "            except UnicodeDecodeError:\n",
    "                pass"
   ]
  },
  {
   "cell_type": "markdown",
   "metadata": {},
   "source": [
    "Переведём типы движений в числа"
   ]
  },
  {
   "cell_type": "code",
   "execution_count": 114,
   "metadata": {},
   "outputs": [],
   "source": [
    "classes = {'тояни' : 0, 'месте' : 0, 'одьб' : 1, 'аг' : 1, 'ег' : 2, 'елоси' : 3, 'естн' : 4, 'одъ' : 4, \n",
    "           'втомо' : 5, 'ашин' : 5, 'метро' : 6, 'лектро' : 7, 'амок' : 8}\n",
    "\n",
    "answers = {'стояние' : 0, 'ходьба' : 1, 'бег' : 2, 'велосипед' : 3, 'лестница' : 4, \n",
    "           'автомобиль' : 5, 'метро' : 6, 'электросамокат' : 7, 'самокат' : 8}\n",
    "\n",
    "# стояние, ходьба, велосипед, лестница, бег, подъем, подъём, автомобиль, электросамокат, машина, метро"
   ]
  },
  {
   "cell_type": "code",
   "execution_count": 115,
   "metadata": {},
   "outputs": [],
   "source": [
    "def get_action(name):\n",
    "    for act in classes:\n",
    "        if name.lower().find(act) != -1:\n",
    "            return classes[act]\n",
    "    return -1"
   ]
  },
  {
   "cell_type": "code",
   "execution_count": 116,
   "metadata": {},
   "outputs": [],
   "source": [
    "def rotation_matrix_from_vectors(vec1, vec2):\n",
    "    \"\"\" Find the rotation matrix that aligns vec1 to vec2\n",
    "    :param vec1: A 3d \"source\" vector\n",
    "    :param vec2: A 3d \"destination\" vector\n",
    "    :return mat: A transform matrix (3x3) which when applied to vec1, aligns it with vec2.\n",
    "    \"\"\"\n",
    "    a, b = (vec1 / numpy.linalg.norm(vec1)).reshape(3), (vec2 / numpy.linalg.norm(vec2)).reshape(3)\n",
    "    v = numpy.cross(a, b)\n",
    "    if any(v): #if not all zeros then \n",
    "        c = numpy.dot(a, b)\n",
    "        s = numpy.linalg.norm(v)\n",
    "        kmat = numpy.array([[0, -v[2], v[1]], [v[2], 0, -v[0]], [-v[1], v[0], 0]])\n",
    "        return numpy.eye(3) + kmat + kmat.dot(kmat) * ((1 - c) / (s ** 2))\n",
    "\n",
    "    else:\n",
    "        return numpy.eye(3) #cross of all zeros only occurs on identical directions"
   ]
  },
  {
   "cell_type": "code",
   "execution_count": 117,
   "metadata": {},
   "outputs": [],
   "source": [
    "def rotate(X, Y, Z, Mat):\n",
    "    new_x = []\n",
    "    new_y = []\n",
    "    new_z = []\n",
    "    \n",
    "    for elem in zip(X,Y,Z):\n",
    "        res = Mat.dot(elem)\n",
    "        new_x.append(res[0])\n",
    "        new_y.append(res[1])\n",
    "        new_z.append(res[2])\n",
    "        \n",
    "    return new_x, new_y, new_z"
   ]
  },
  {
   "cell_type": "code",
   "execution_count": 118,
   "metadata": {},
   "outputs": [],
   "source": [
    "def integrate(lst):\n",
    "    res = []\n",
    "    s = 0\n",
    "    for elem in lst:\n",
    "        s += elem\n",
    "        res.append(s)\n",
    "    return res"
   ]
  },
  {
   "cell_type": "code",
   "execution_count": null,
   "metadata": {},
   "outputs": [],
   "source": [
    "import pandas as pd\n",
    "from matplotlib import pylab as plt\n",
    "%pylab inline\n",
    "\n",
    "def process_data(df, comma=True, cut=True, name = \"\", a=-1, b=-1):\n",
    "    \n",
    "    print(name)\n",
    "    \n",
    "    if a == -1:\n",
    "        st = 800\n",
    "    else:\n",
    "        st = a\n",
    "            \n",
    "    if b == -1:\n",
    "        end = -800\n",
    "    else:\n",
    "        end = b\n",
    "        \n",
    "    if cut == False:\n",
    "        st = 0\n",
    "        end = -1\n",
    "\n",
    "    print(name)\n",
    "    fig, ((ax1, ax2, ax3),(ax4, ax5, ax6),(ax7, ax8, ax9)) = plt.subplots(nrows=3, ncols=3, figsize=(15,10))\n",
    "    \n",
    "    if comma is True:\n",
    "        df = df.applymap(lambda x: str(x).replace(',','.'))\n",
    "        df['gFx'] = df['gFx'].astype(float)\n",
    "        df['gFy'] = df['gFy'].astype(float)\n",
    "        df['gFz'] = df['gFz'].astype(float)\n",
    "    if cut:\n",
    "        ax1.plot(df.iloc[st:end]['gFx'],c='g')\n",
    "        ax1.plot(df.iloc[st:end]['gFy'],c='r')\n",
    "        ax1.plot(df.iloc[st:end]['gFz'],c='b')\n",
    "    else:\n",
    "        ax1.plot(df['gFx'],c='g')\n",
    "        ax1.plot(df['gFy'],c='r')\n",
    "        ax1.plot(df['gFz'],c='b')\n",
    "#        show()\n",
    "########################################################################        \n",
    "#integration\n",
    "\n",
    "#вычисляем средний вектор ускорения по треку\n",
    "\n",
    "    mx = df.iloc[st:end]['gFx'].values.mean() \n",
    "    my = df.iloc[st:end]['gFy'].values.mean() \n",
    "    mz = df.iloc[st:end]['gFz'].values.mean() \n",
    "    \n",
    "#находим матрицу поворота этого вектора к вектору (0,0,1)\n",
    "\n",
    "    Vec = [mx,my,mz]\n",
    "    Point = [0, 0, 1]\n",
    "    mat = rotation_matrix_from_vectors(Vec, Point)\n",
    "    \n",
    "#каждую точку трека поворачиваем на эту матрицу\n",
    "\n",
    "    new_x, new_y, new_z = rotate(df.iloc[st:end]['gFx'].values, df.iloc[st:end]['gFy'].values, df.iloc[st:end]['gFz'].values, mat)\n",
    "\n",
    "#проверяем, что новые средние равны примерно (0,0,1). Если это не так, значит, телефон часто поворачивался при движении, и нам не поможет это преобразование\n",
    "\n",
    "    print('New means:', mean(new_x), mean(new_y), mean(new_z))\n",
    "\n",
    "#делим на 250*250 (это нужно было еще при интегрировании)\n",
    "    new_x = [elem / 62500 for elem in new_x]\n",
    "    new_y = [elem / 62500 for elem in new_y]\n",
    "#из ускорения по z вычитаем 1 (g), чтобы убрать влияние силы тяжести и оставить только ускорение по z\n",
    "    new_z = [(elem-1)/62500 for elem in new_z]\n",
    "    \n",
    "#дважды интегрируем ускорение, чтобы получить перемещение вдоль каждой оси\n",
    "    int_x = integrate(integrate(new_x))\n",
    "  #  ax7.plot(int_x)\n",
    "    \n",
    "    int_y = integrate(integrate(new_y))\n",
    "  #  ax8.plot(int_y)\n",
    "    \n",
    "    int_z = integrate(integrate(new_z))\n",
    "   # ax9.plot(int_z)\n",
    "\n",
    "########################################################################        \n",
    "#преобразование Фурье\n",
    "########################################################################        \n",
    "\n",
    "    Fs = 250 #частота сбора данных\n",
    "    y = df.iloc[st:end]['gFx'].values\n",
    "    n = len(y) # length of the signal\n",
    "    k = np.arange(n)\n",
    "    T = n/Fs\n",
    "    frq = k/T # two sides frequency range\n",
    "    frq = frq[:len(frq)//2] # one side frequency range\n",
    "\n",
    "    Y = np.fft.fft(y)/n # dft and normalization\n",
    "    Y = Y[:n//2]\n",
    "    \n",
    "    yabs = abs(Y)\n",
    "    \n",
    "    Min = 0\n",
    "    \n",
    "   # ax4.plot(frq,yabs) # plotting the spectrum\n",
    "   # ax4.set_xlim([0,30]) #очень большие частоты нам не нужны\n",
    "   # ax4.set_ylim([Min,0.1]) #не смотрим на близкие к нулю величины частот\n",
    "\n",
    "    \n",
    "    y = df.iloc[st:end]['gFy'].values\n",
    "    n = len(y) # length of the signal\n",
    "    k = np.arange(n)\n",
    "    T = n/Fs\n",
    "    frq = k/T # two sides frequency range\n",
    "    frq = frq[:len(frq)//2] # one side frequency range\n",
    "\n",
    "    Y = np.fft.fft(y)/n # dft and normalization\n",
    "    Y = Y[:n//2]\n",
    "    \n",
    "    yabs = abs(Y)\n",
    "    \n",
    "   # ax5.plot(frq,yabs) # plotting the spectrum\n",
    "   # ax5.set_xlim([0,30])\n",
    "   # ax5.set_ylim([Min,0.1])\n",
    "\n",
    "\n",
    "    y = df.iloc[st:end]['gFz'].values\n",
    "    n = len(y) # length of the signal\n",
    "    k = np.arange(n)\n",
    "    T = n/Fs\n",
    "    frq = k/T # two sides frequency range\n",
    "    frq = frq[:len(frq)//2] # one side frequency range\n",
    "\n",
    "    Y = np.fft.fft(y)/n # dft and normalization\n",
    "    Y = Y[:n//2]\n",
    "    \n",
    "    yabs = abs(Y)\n",
    "   \n",
    "    #6.set_xlim([0,30])\n",
    "    #ax6.set_ylim([Min,0.1])\n",
    "\n",
    "\n",
    "    Acc = (df.gFx[st:end] ** 2 + df.gFy[st:end] ** 2 + df.gFz[st:end] ** 2) ** 0.5\n",
    "\n",
    "    y = Acc.values\n",
    "    n = len(y) # length of the signal\n",
    "    k = np.arange(n)\n",
    "    T = n/Fs\n",
    "    frq = k/T # two sides frequency range\n",
    "    frq = frq[:len(frq)//2] # one side frequency range\n",
    "\n",
    "    Y = np.fft.fft(y)/n # dft and normalization\n",
    "    Y = Y[:n//2]\n",
    "    \n",
    "    \n",
    "    yabs = abs(Y)\n",
    "    #ax3.plot(frq,yabs) # plotting the spectrum\n",
    "    #ax3.set_xlim([0,30])\n",
    "    #ax3.set_ylim([Min,0.1])\n",
    "########################################################################        \n",
    "    \n",
    "    Acc = (df.gFx[st:end] ** 2 + df.gFy[st:end] ** 2 + df.gFz[st:end] ** 2) ** 0.5\n",
    "    #ax2.plot(Acc)\n",
    "    #plt.show()\n",
    "    yabs = yabs[10:]\n",
    "    print(name + ' Амплитуда:', Acc.max()-Acc.min(), 'max FFT:', max(yabs))\n",
    "    \n",
    "    if get_action(name) == 1:\n",
    "        maxes1.append(max(yabs))\n",
    "    elif get_action(name) == 3:\n",
    "        maxes3.append(max(yabs))\n",
    "    elif get_action(name) == 4:\n",
    "        maxes4.append(max(yabs))\n",
    "    elif get_action(name) == 5:\n",
    "        maxes5.append(max(yabs))\n",
    "    \n",
    "    return Acc.max()-Acc.min(), max(yabs)\n",
    "\n",
    "\n",
    "maxes1 = []\n",
    "maxes3 = []\n",
    "maxes4 = []\n",
    "maxes5 = []\n",
    "_amp = np.zeros(len(Data))\n",
    "_maxes = np.zeros(len(Data))\n",
    "\n",
    "\n",
    "\n",
    "for df, target in zip(Data,Target):\n",
    "    track_num = int(target.split('_')[1].split('.')[0])\n",
    "    _amp[track_num], _maxes[track_num] = process_data(df, name=target)\n"
   ]
  },
  {
   "cell_type": "markdown",
   "metadata": {},
   "source": [
    "Обработаем данные и извлечём признаки для создания модели"
   ]
  },
  {
   "cell_type": "markdown",
   "metadata": {},
   "source": [
    "Напишем функцию для получения предсказания (здесь используется только амплитуда, но в вашем итоговом решении будет больше признаков)"
   ]
  },
  {
   "cell_type": "code",
   "execution_count": 141,
   "metadata": {},
   "outputs": [],
   "source": [
    "def get_prediction(ampl, _max):\n",
    "    if ampl < 0.3:\n",
    "        return 6\n",
    "    if ampl < 1:\n",
    "        if (_max < 0.01):\n",
    "            return 0\n",
    "        if (_max > 0.021):\n",
    "            return 3\n",
    "        if (_max <= 0.021):\n",
    "            return 5\n",
    "    if ampl >  5:\n",
    "        if (_max >= 0.15):\n",
    "            return 2\n",
    "        if (_max <= 0.058):\n",
    "            return 3\n",
    "        if (_max > 0.058):\n",
    "            return 4\n",
    "    if ampl <= 1.5:\n",
    "        if (_max > 0.01):\n",
    "            return 1\n",
    "        if (_max > 0.021):\n",
    "            return 3\n",
    "        if (_max <= 0.021):\n",
    "            return 5\n",
    "    if (_max >= 0.15):\n",
    "        return 1\n",
    "    if (_max < 0.011):\n",
    "        return 3\n",
    "    if (_max > 0.1):\n",
    "        return 1\n",
    "    return 4\n",
    "    \n",
    "        \n",
    "    "
   ]
  },
  {
   "cell_type": "code",
   "execution_count": 125,
   "metadata": {},
   "outputs": [
    {
     "data": {
      "text/plain": [
       "(146, 146, 146)"
      ]
     },
     "execution_count": 125,
     "metadata": {},
     "output_type": "execute_result"
    }
   ],
   "source": [
    "len(Data), len(Ampl), len(Target)"
   ]
  },
  {
   "cell_type": "code",
   "execution_count": 126,
   "metadata": {},
   "outputs": [
    {
     "data": {
      "text/plain": [
       "list"
      ]
     },
     "execution_count": 126,
     "metadata": {},
     "output_type": "execute_result"
    }
   ],
   "source": [
    "type(Data)"
   ]
  },
  {
   "cell_type": "code",
   "execution_count": 30,
   "metadata": {},
   "outputs": [],
   "source": [
    "#Ampl_new = []\n",
    "\n",
    "#i=0\n",
    "#for elem in Ampl:\n",
    "#    if not (math.isnan(elem) or elem == -1):\n",
    "#        i+=1\n",
    "#        Ampl_new.append(elem)\n",
    "#    else:\n",
    "#        Ampl_new.append(2)\n",
    "#len(Ampl_new), i"
   ]
  },
  {
   "cell_type": "markdown",
   "metadata": {},
   "source": [
    "Создадим таблицу, содержащую номер трека и предсказание."
   ]
  },
  {
   "cell_type": "code",
   "execution_count": null,
   "metadata": {},
   "outputs": [],
   "source": [
    "prediction = [get_prediction(a, b) for (a, b) in zip(_amp, _maxes)]\n",
    "\n",
    "Res = pd.DataFrame({'track_num' : np.arange(len(Data)), 'action' : prediction})\n",
    "Res.head(10)"
   ]
  },
  {
   "cell_type": "code",
   "execution_count": null,
   "metadata": {},
   "outputs": [],
   "source": [
    "prediction = [get_prediction(a) for a in GoodAmpl]\n",
    "answer = [get_action(target) for target in GoodTarget]\n",
    "\n",
    "Res = pd.DataFrame({'track_num' : np.arange(len(GoodData)), 'answer' : answer, 'action' : prediction})\n",
    "Res.head(10)"
   ]
  },
  {
   "cell_type": "code",
   "execution_count": null,
   "metadata": {},
   "outputs": [],
   "source": [
    "from sklearn.metrics import accuracy_score\n",
    "\n",
    "accuracy_score(Res['answer'], Res['action'])"
   ]
  },
  {
   "cell_type": "code",
   "execution_count": 143,
   "metadata": {},
   "outputs": [],
   "source": [
    "Res.to_csv(\"th_submit.csv\", index=False)"
   ]
  },
  {
   "cell_type": "code",
   "execution_count": null,
   "metadata": {},
   "outputs": [],
   "source": []
  }
 ],
 "metadata": {
  "kernelspec": {
   "display_name": "Python 3",
   "language": "python",
   "name": "python3"
  },
  "language_info": {
   "codemirror_mode": {
    "name": "ipython",
    "version": 3
   },
   "file_extension": ".py",
   "mimetype": "text/x-python",
   "name": "python",
   "nbconvert_exporter": "python",
   "pygments_lexer": "ipython3",
   "version": "3.8.5"
  }
 },
 "nbformat": 4,
 "nbformat_minor": 4
}
